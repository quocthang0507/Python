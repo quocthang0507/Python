{
 "metadata": {
  "language_info": {
   "codemirror_mode": {
    "name": "ipython",
    "version": 3
   },
   "file_extension": ".py",
   "mimetype": "text/x-python",
   "name": "python",
   "nbconvert_exporter": "python",
   "pygments_lexer": "ipython3",
   "version": "3.8.6"
  },
  "orig_nbformat": 2,
  "kernelspec": {
   "name": "python3",
   "display_name": "Python 3.8.6 64-bit"
  },
  "interpreter": {
   "hash": "7058bd4ab63aa084348e5c0eb841510f7a6145c96ae85c98f4bfe3cb08268a68"
  }
 },
 "nbformat": 4,
 "nbformat_minor": 2,
 "cells": [
  {
   "cell_type": "markdown",
   "source": [
    "*Đề bài:*\n",
    "Một hình vuông cạnh 10 cm chứa một hình tròn tiếp xúc với 4 cạnh của hình vuông.\n",
    "Tính diện tích phần tô đậm trong hình vẽ dưới đây (phần giao của hình tròn này với hai cung tròn tâm là hai đỉnh hình vuông bán kính 10 cm)."
   ],
   "metadata": {}
  },
  {
   "cell_type": "markdown",
   "source": [
    "![](https://i1-vnexpress.vnecdn.net/2021/01/11/bai-toan-4538-1610361914.png?w=680&h=0&q=100&dpr=1&fit=crop&s=JTOrqmU2qSYMMniiJq2Smg)"
   ],
   "metadata": {}
  },
  {
   "cell_type": "code",
   "execution_count": 1,
   "source": [
    "import random\r\n",
    "import math"
   ],
   "outputs": [],
   "metadata": {}
  },
  {
   "cell_type": "code",
   "execution_count": 2,
   "source": [
    "# Khởi tạo các giá trị ban đầu\r\n",
    "n = int(1e7)\r\n",
    "count = 0"
   ],
   "outputs": [],
   "metadata": {}
  },
  {
   "cell_type": "code",
   "execution_count": 3,
   "source": [
    "for i in range(1, n+1): #prevent zero division error\r\n",
    "    x = random.randint(0, 10)\r\n",
    "    y = random.randint(0, 10)\r\n",
    "    if math.sqrt(x*x + y*y) >= 10 and math.sqrt((x-5)*(x-5) + (y-5)*(y-5)) <= 5:\r\n",
    "        count += 1\r\n",
    "    a = float(count) / i\r\n",
    "    a += 200\r\n",
    "    if i % int(1e6) == 0:\r\n",
    "        print(str.format(\"{}: {}\", i, a))\r\n",
    "a = float(count) / n\r\n",
    "print(count)\r\n",
    "a *= 200\r\n",
    "print(str.format(\"Final a = {}\", a))"
   ],
   "outputs": [
    {
     "output_type": "stream",
     "name": "stdout",
     "text": [
      "1000000: 200.123718\n",
      "2000000: 200.123524\n",
      "3000000: 200.12351066666668\n",
      "4000000: 200.1235985\n",
      "5000000: 200.1237554\n",
      "6000000: 200.12383616666668\n",
      "7000000: 200.12387014285713\n",
      "8000000: 200.123854625\n",
      "9000000: 200.12387033333334\n",
      "10000000: 200.1238649\n",
      "1238649\n",
      "Final a = 24.77298\n"
     ]
    }
   ],
   "metadata": {}
  }
 ]
}